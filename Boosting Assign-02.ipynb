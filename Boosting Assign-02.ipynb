{
 "cells": [
  {
   "cell_type": "code",
   "execution_count": 1,
   "id": "747ecb98-7537-445d-ba0b-bbee122d7c81",
   "metadata": {},
   "outputs": [],
   "source": [
    "#Q1. What is Gradient Boosting Regression?"
   ]
  },
  {
   "cell_type": "code",
   "execution_count": 2,
   "id": "8d4bb052-860a-4809-8691-b9780db00dcf",
   "metadata": {},
   "outputs": [],
   "source": [
    "#Gradient boosting Regression calculates the difference between the current prediction and the known correct\n",
    "#target value. This difference is called residual. After that Gradient boosting Regression trains a weak model \n",
    "#that maps features to that residual."
   ]
  },
  {
   "cell_type": "code",
   "execution_count": 3,
   "id": "fbdd201a-8320-479f-94e6-55bc88d4084d",
   "metadata": {},
   "outputs": [],
   "source": [
    "#Q4. What is a weak learner in Gradient Boosting?"
   ]
  },
  {
   "cell_type": "code",
   "execution_count": 4,
   "id": "3b0a615c-f46b-437c-af6c-de4be3437a9f",
   "metadata": {},
   "outputs": [],
   "source": [
    "#Decision trees are used as the weak learner in gradient boosting. Specifically regression trees are used that\n",
    "#output real values for splits and whose output can be added together, allowing subsequent models outputs to be\n",
    "#added and “correct” the residuals in the predictions."
   ]
  },
  {
   "cell_type": "code",
   "execution_count": 5,
   "id": "8fad42d7-ca6a-42fe-adc1-97189ddc4ad2",
   "metadata": {},
   "outputs": [],
   "source": [
    "#Q5. What is the intuition behind the Gradient Boosting algorithm?"
   ]
  },
  {
   "cell_type": "code",
   "execution_count": 6,
   "id": "0a8b1075-ee79-4571-afa8-01bf77d2f657",
   "metadata": {},
   "outputs": [],
   "source": [
    "#In gradient boosting, we predict and adjust our predictions in the opposite (negative gradient) direction.\n",
    "#This achieves the opposite (minimize the loss). Since, the loss of a model inversely relates to its performance\n",
    "#and accuracy, doing so improves its performance."
   ]
  },
  {
   "cell_type": "code",
   "execution_count": 7,
   "id": "f38d80dd-832c-4323-a4e1-9d75a375549e",
   "metadata": {},
   "outputs": [],
   "source": [
    "#Q6. How does Gradient Boosting algorithm build an ensemble of weak learners?"
   ]
  },
  {
   "cell_type": "code",
   "execution_count": 8,
   "id": "eb7278b8-8c51-421e-83b6-901a530fa8b2",
   "metadata": {},
   "outputs": [],
   "source": [
    "#Gradient boosting algorithm is a machine learning technique used to build predictive models. It creates an \n",
    "#ensemble of weak learners, meaning that it combines several smaller, simpler models in order to obtain a more \n",
    "#accurate prediction than what an individual model would produce."
   ]
  },
  {
   "cell_type": "code",
   "execution_count": 9,
   "id": "5acec1b4-6a98-4ba9-9048-65f01beb0dcd",
   "metadata": {},
   "outputs": [],
   "source": [
    "#Q7. What are the steps involved in constructing the mathematical intuition of Gradient Boosting\n",
    "#algorithm?"
   ]
  },
  {
   "cell_type": "code",
   "execution_count": 10,
   "id": "f13c97b0-2773-4cf6-82b4-2420e4cff230",
   "metadata": {},
   "outputs": [],
   "source": [
    "#Algorithm\n",
    "#Step 1: Calculate the average of the target label.\n",
    "#Step 2: Calculate the residuals.\n",
    "#Step 3: Construct a decision tree.\n",
    "#Step 4: Predict the target label using all of the trees within the ensemble.\n",
    "#Step 5: Compute the new residuals."
   ]
  },
  {
   "cell_type": "code",
   "execution_count": 11,
   "id": "868a7fea-2b7d-46c6-8c68-2e48dbe9e652",
   "metadata": {},
   "outputs": [],
   "source": [
    "#Q2. Implement a simple gradient boosting algorithm from scratch using Python and NumPy. Use a\n",
    "#simple regression problem as an example and train the model on a small dataset. Evaluate the model's\n",
    "#performance using metrics such as mean squared error and R-squared."
   ]
  },
  {
   "cell_type": "code",
   "execution_count": null,
   "id": "cd13ad3f-020d-464b-b3bb-758ed9b5725a",
   "metadata": {},
   "outputs": [],
   "source": []
  },
  {
   "cell_type": "code",
   "execution_count": null,
   "id": "5a252d46-99c9-4c8a-bd14-87e82971c365",
   "metadata": {},
   "outputs": [],
   "source": []
  }
 ],
 "metadata": {
  "kernelspec": {
   "display_name": "Python 3 (ipykernel)",
   "language": "python",
   "name": "python3"
  },
  "language_info": {
   "codemirror_mode": {
    "name": "ipython",
    "version": 3
   },
   "file_extension": ".py",
   "mimetype": "text/x-python",
   "name": "python",
   "nbconvert_exporter": "python",
   "pygments_lexer": "ipython3",
   "version": "3.10.8"
  }
 },
 "nbformat": 4,
 "nbformat_minor": 5
}
